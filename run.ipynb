{
 "cells": [
  {
   "cell_type": "code",
   "execution_count": 9,
   "metadata": {},
   "outputs": [
    {
     "name": "stdout",
     "output_type": "stream",
     "text": [
      "Setup complete. Using torch 1.12.1+cpu (CPU)\n"
     ]
    },
    {
     "name": "stderr",
     "output_type": "stream",
     "text": [
      "ERROR: Could not open requirements file: [Errno 2] No such file or directory: 'yolov5/requirements.txt'\n",
      "\n",
      "[notice] A new release of pip available: 22.2.2 -> 22.3\n",
      "[notice] To update, run: python.exe -m pip install --upgrade pip\n"
     ]
    }
   ],
   "source": [
    "import torch\n",
    "import os\n",
    "from IPython.display import Image, clear_output  # to display images\n",
    "\n",
    "print(f\"Setup complete. Using torch {torch.__version__} ({torch.cuda.get_device_properties(0).name if torch.cuda.is_available() else 'CPU'})\")"
   ]
  },
  {
   "cell_type": "code",
   "execution_count": 2,
   "metadata": {},
   "outputs": [],
   "source": [
    "from collections import defaultdict"
   ]
  },
  {
   "cell_type": "code",
   "execution_count": 6,
   "metadata": {},
   "outputs": [
    {
     "name": "stdout",
     "output_type": "stream",
     "text": [
      "defaultdict(<function <lambda> at 0x000001259CBC7490>, {'0': 5383, '1': 1825})\n"
     ]
    }
   ],
   "source": [
    "dataset_path = './dataset'\n",
    "label_path = dataset_path + '/labels'\n",
    "img_path = dataset_path + '/images'\n",
    "\n",
    "dir_list = os.listdir(label_path)\n",
    "\n",
    "dic = defaultdict(lambda: 0)\n",
    "for file in dir_list:\n",
    "    with open(f'{label_path}/{file}', 'r') as f:\n",
    "        lines = f.readlines()\n",
    "        if lines != []:\n",
    "            dic[lines[0][0]] += 1\n",
    "\n",
    "print(dic)\n"
   ]
  },
  {
   "cell_type": "code",
   "execution_count": 8,
   "metadata": {},
   "outputs": [
    {
     "name": "stdout",
     "output_type": "stream",
     "text": [
      "c:\\Users\\eliza\\CS4243\\project\\yolov5\n"
     ]
    },
    {
     "name": "stderr",
     "output_type": "stream",
     "text": [
      "Traceback (most recent call last):\n",
      "  File \"c:\\Users\\eliza\\CS4243\\project\\yolov5\\train.py\", line 42, in <module>\n",
      "    import val as validate  # for end-of-epoch mAP\n",
      "  File \"c:\\Users\\eliza\\CS4243\\project\\yolov5\\val.py\", line 38, in <module>\n",
      "    from models.common import DetectMultiBackend\n",
      "  File \"c:\\Users\\eliza\\CS4243\\project\\yolov5\\models\\common.py\", line 26, in <module>\n",
      "    from utils.dataloaders import exif_transpose, letterbox\n",
      "  File \"c:\\Users\\eliza\\CS4243\\project\\yolov5\\utils\\dataloaders.py\", line 24, in <module>\n",
      "    import torchvision\n",
      "ModuleNotFoundError: No module named 'torchvision'\n"
     ]
    }
   ],
   "source": [
    "!python train.py --img 640 --batch 16 --epochs 150 --data dataset/dataset.yaml --weights yolov5s.pt --cache"
   ]
  }
 ],
 "metadata": {
  "kernelspec": {
   "display_name": "Python 3.10.6 64-bit",
   "language": "python",
   "name": "python3"
  },
  "language_info": {
   "codemirror_mode": {
    "name": "ipython",
    "version": 3
   },
   "file_extension": ".py",
   "mimetype": "text/x-python",
   "name": "python",
   "nbconvert_exporter": "python",
   "pygments_lexer": "ipython3",
   "version": "3.10.6"
  },
  "orig_nbformat": 4,
  "vscode": {
   "interpreter": {
    "hash": "529bac6e1310abc4c55a198df5575b5f41fbc9531f69d918edbd2d2b03a9f3f9"
   }
  }
 },
 "nbformat": 4,
 "nbformat_minor": 2
}
